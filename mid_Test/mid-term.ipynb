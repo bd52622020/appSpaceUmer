{
 "cells": [
  {
   "cell_type": "code",
   "execution_count": 1,
   "metadata": {},
   "outputs": [],
   "source": [
    "import pandas as pd"
   ]
  },
  {
   "cell_type": "code",
   "execution_count": 38,
   "metadata": {},
   "outputs": [],
   "source": [
    "dfChar = pd.read_csv('star-wars/characters.csv',sep=',', encoding='utf-8',quoting=0,)\n",
    "dfPlant = pd.read_csv('star-wars/planets.csv',sep=',', encoding='utf-8',quoting=0,)\n",
    "dfSpec = pd.read_csv('star-wars/species.csv',sep=',', encoding='utf-8',quoting=0,)\n",
    "dfStar = pd.read_csv('star-wars/starships.csv',sep=',', encoding='utf-8',quoting=0,)\n",
    "dfVeh = pd.read_csv('star-wars/vehicles.csv',sep=',', encoding='utf-8',quoting=0,)"
   ]
  },
  {
   "cell_type": "code",
   "execution_count": 39,
   "metadata": {},
   "outputs": [
    {
     "data": {
      "text/html": [
       "<div>\n",
       "<style scoped>\n",
       "    .dataframe tbody tr th:only-of-type {\n",
       "        vertical-align: middle;\n",
       "    }\n",
       "\n",
       "    .dataframe tbody tr th {\n",
       "        vertical-align: top;\n",
       "    }\n",
       "\n",
       "    .dataframe thead th {\n",
       "        text-align: right;\n",
       "    }\n",
       "</style>\n",
       "<table border=\"1\" class=\"dataframe\">\n",
       "  <thead>\n",
       "    <tr style=\"text-align: right;\">\n",
       "      <th></th>\n",
       "      <th>name</th>\n",
       "      <th>height</th>\n",
       "      <th>mass</th>\n",
       "      <th>hair_color</th>\n",
       "      <th>skin_color</th>\n",
       "      <th>eye_color</th>\n",
       "      <th>birth_year</th>\n",
       "      <th>gender</th>\n",
       "      <th>homeworld</th>\n",
       "      <th>species</th>\n",
       "    </tr>\n",
       "  </thead>\n",
       "  <tbody>\n",
       "    <tr>\n",
       "      <th>0</th>\n",
       "      <td>Luke Skywalker</td>\n",
       "      <td>172.0</td>\n",
       "      <td>77</td>\n",
       "      <td>blond</td>\n",
       "      <td>fair</td>\n",
       "      <td>blue</td>\n",
       "      <td>19BBY</td>\n",
       "      <td>male</td>\n",
       "      <td>Tatooine</td>\n",
       "      <td>Human</td>\n",
       "    </tr>\n",
       "    <tr>\n",
       "      <th>1</th>\n",
       "      <td>C-3PO</td>\n",
       "      <td>167.0</td>\n",
       "      <td>75</td>\n",
       "      <td>NaN</td>\n",
       "      <td>gold</td>\n",
       "      <td>yellow</td>\n",
       "      <td>112BBY</td>\n",
       "      <td>NaN</td>\n",
       "      <td>Tatooine</td>\n",
       "      <td>Droid</td>\n",
       "    </tr>\n",
       "    <tr>\n",
       "      <th>2</th>\n",
       "      <td>R2-D2</td>\n",
       "      <td>96.0</td>\n",
       "      <td>32</td>\n",
       "      <td>NaN</td>\n",
       "      <td>white, blue</td>\n",
       "      <td>red</td>\n",
       "      <td>33BBY</td>\n",
       "      <td>NaN</td>\n",
       "      <td>Naboo</td>\n",
       "      <td>Droid</td>\n",
       "    </tr>\n",
       "    <tr>\n",
       "      <th>3</th>\n",
       "      <td>Darth Vader</td>\n",
       "      <td>202.0</td>\n",
       "      <td>136</td>\n",
       "      <td>none</td>\n",
       "      <td>white</td>\n",
       "      <td>yellow</td>\n",
       "      <td>41.9BBY</td>\n",
       "      <td>male</td>\n",
       "      <td>Tatooine</td>\n",
       "      <td>Human</td>\n",
       "    </tr>\n",
       "    <tr>\n",
       "      <th>4</th>\n",
       "      <td>Leia Organa</td>\n",
       "      <td>150.0</td>\n",
       "      <td>49</td>\n",
       "      <td>brown</td>\n",
       "      <td>light</td>\n",
       "      <td>brown</td>\n",
       "      <td>19BBY</td>\n",
       "      <td>female</td>\n",
       "      <td>Alderaan</td>\n",
       "      <td>Human</td>\n",
       "    </tr>\n",
       "  </tbody>\n",
       "</table>\n",
       "</div>"
      ],
      "text/plain": [
       "             name  height mass hair_color   skin_color eye_color birth_year  \\\n",
       "0  Luke Skywalker   172.0   77      blond         fair      blue      19BBY   \n",
       "1           C-3PO   167.0   75        NaN         gold    yellow     112BBY   \n",
       "2           R2-D2    96.0   32        NaN  white, blue       red      33BBY   \n",
       "3     Darth Vader   202.0  136       none        white    yellow    41.9BBY   \n",
       "4     Leia Organa   150.0   49      brown        light     brown      19BBY   \n",
       "\n",
       "   gender homeworld species  \n",
       "0    male  Tatooine   Human  \n",
       "1     NaN  Tatooine   Droid  \n",
       "2     NaN     Naboo   Droid  \n",
       "3    male  Tatooine   Human  \n",
       "4  female  Alderaan   Human  "
      ]
     },
     "execution_count": 39,
     "metadata": {},
     "output_type": "execute_result"
    }
   ],
   "source": [
    "dfChar.head()"
   ]
  },
  {
   "cell_type": "code",
   "execution_count": 60,
   "metadata": {},
   "outputs": [
    {
     "data": {
      "text/plain": [
       "homeworld\n",
       "Alderaan           3\n",
       "Aleen Minor        1\n",
       "Bespin             1\n",
       "Bestine IV         1\n",
       "Cato Neimoidia     1\n",
       "Cerea              1\n",
       "Champala           1\n",
       "Chandrila          1\n",
       "Concord Dawn       1\n",
       "Corellia           2\n",
       "Coruscant          3\n",
       "Dathomir           1\n",
       "Dorin              1\n",
       "Endor              1\n",
       "Eriadu             1\n",
       "Geonosis           1\n",
       "Glee Anselm        1\n",
       "Haruun Kal         1\n",
       "Iktotch            1\n",
       "Iridonia           1\n",
       "Kalee              1\n",
       "Kamino             3\n",
       "Kashyyyk           2\n",
       "Malastare          1\n",
       "Mirial             2\n",
       "Mon Cala           1\n",
       "Muunilinst         1\n",
       "Naboo             11\n",
       "Nal Hutta          1\n",
       "Ojom               1\n",
       "Quermia            1\n",
       "Rodia              1\n",
       "Ryloth             2\n",
       "Serenno            1\n",
       "Shili              1\n",
       "Skako              1\n",
       "Socorro            1\n",
       "Stewjon            1\n",
       "Sullust            1\n",
       "Tatooine          10\n",
       "Toydaria           1\n",
       "Trandosha          1\n",
       "Troiken            1\n",
       "Tund               1\n",
       "Umbara             1\n",
       "Utapau             1\n",
       "Vulpter            1\n",
       "Zolan              1\n",
       "Name: name, dtype: int64"
      ]
     },
     "execution_count": 60,
     "metadata": {},
     "output_type": "execute_result"
    }
   ],
   "source": [
    "dfchar2 = dfChar.groupby('homeworld')['name'].count()\n",
    "dfchar2"
   ]
  },
  {
   "cell_type": "code",
   "execution_count": 61,
   "metadata": {},
   "outputs": [
    {
     "data": {
      "text/plain": [
       "climate\n",
       "arid                          1\n",
       "arid, rocky, windy            0\n",
       "arid, temperate, tropical     0\n",
       "artificial temperate          1\n",
       "frigid                        1\n",
       "frozen                        1\n",
       "hot                           2\n",
       "hot, humid                    0\n",
       "murky                         1\n",
       "polluted                      0\n",
       "superheated                   1\n",
       "temperate                    12\n",
       "temperate, arid               1\n",
       "temperate, arid, subartic     1\n",
       "temperate, arid, windy        1\n",
       "temperate, artic              0\n",
       "temperate, moist              0\n",
       "temperate, tropical           1\n",
       "tropical                      1\n",
       "tropical, temperate           1\n",
       "Name: surface_water, dtype: int64"
      ]
     },
     "execution_count": 61,
     "metadata": {},
     "output_type": "execute_result"
    }
   ],
   "source": [
    "dfPlant.head()\n",
    "dfPlant2 = dfPlant.groupby('climate')['surface_water'].count()\n",
    "dfPlant2"
   ]
  },
  {
   "cell_type": "code",
   "execution_count": 71,
   "metadata": {},
   "outputs": [
    {
     "data": {
      "text/plain": [
       "hair_colors\n",
       "black                         1\n",
       "black, brown                  2\n",
       "blonde, brown, black, red     1\n",
       "brown, white                  1\n",
       "none                         20\n",
       "red, blond, black, white      1\n",
       "white, brown, black           1\n",
       "Name: classification, dtype: int64"
      ]
     },
     "execution_count": 71,
     "metadata": {},
     "output_type": "execute_result"
    }
   ],
   "source": [
    "dfSpec.head()\n",
    "dfSpec2 = dfSpec.groupby('hair_colors')['classification'].count()\n",
    "dfSpec2"
   ]
  },
  {
   "cell_type": "code",
   "execution_count": 68,
   "metadata": {},
   "outputs": [
    {
     "data": {
      "text/plain": [
       "max_atmosphering_speed\n",
       "1000      3\n",
       "1000km    1\n",
       "1050      5\n",
       "1100      2\n",
       "1150      1\n",
       "1180      1\n",
       "1200      1\n",
       "1300      1\n",
       "1500      1\n",
       "1600      1\n",
       "2000      2\n",
       "650       1\n",
       "800       1\n",
       "8000      0\n",
       "850       1\n",
       "900       1\n",
       "920       0\n",
       "950       2\n",
       "975       2\n",
       "Name: passengers, dtype: int64"
      ]
     },
     "execution_count": 68,
     "metadata": {},
     "output_type": "execute_result"
    }
   ],
   "source": [
    "dfStar.head()\n",
    "dfchar2 = dfStar.groupby('max_atmosphering_speed')['passengers'].count()\n",
    "dfchar2"
   ]
  },
  {
   "cell_type": "code",
   "execution_count": 63,
   "metadata": {},
   "outputs": [
    {
     "data": {
      "text/plain": [
       "cost_in_credits\n",
       "2500.0      1\n",
       "4000.0      1\n",
       "5750.0      1\n",
       "8000.0      3\n",
       "10550.0     1\n",
       "12125.0     1\n",
       "14500.0     1\n",
       "14750.0     1\n",
       "15000.0     1\n",
       "20000.0     1\n",
       "40000.0     1\n",
       "49000.0     1\n",
       "60000.0     1\n",
       "75000.0     1\n",
       "138000.0    1\n",
       "150000.0    1\n",
       "200000.0    1\n",
       "285000.0    1\n",
       "350000.0    1\n",
       "Name: vehicle_class, dtype: int64"
      ]
     },
     "execution_count": 63,
     "metadata": {},
     "output_type": "execute_result"
    }
   ],
   "source": [
    "dfVeh.head()\n",
    "dfVeh2 = dfVeh.groupby('cost_in_credits')['vehicle_class'].count()\n",
    "dfVeh2"
   ]
  },
  {
   "cell_type": "code",
   "execution_count": null,
   "metadata": {},
   "outputs": [],
   "source": []
  }
 ],
 "metadata": {
  "kernelspec": {
   "display_name": "Python 3",
   "language": "python",
   "name": "python3"
  },
  "language_info": {
   "codemirror_mode": {
    "name": "ipython",
    "version": 3
   },
   "file_extension": ".py",
   "mimetype": "text/x-python",
   "name": "python",
   "nbconvert_exporter": "python",
   "pygments_lexer": "ipython3",
   "version": "3.7.3"
  }
 },
 "nbformat": 4,
 "nbformat_minor": 2
}
